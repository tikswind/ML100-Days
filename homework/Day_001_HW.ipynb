{
  "cells": [
    {
      "cell_type": "markdown",
      "source": [
        "# 作業1：\n",
        "\n",
        "請上 Kaggle, 在 Competitions 或 Dataset 中找一組競賽或資料並寫下：<br/>\n",
        "[Titanic: Machine Learning from Disaster](https://www.kaggle.com/c/titanic)\n",
        "\n",
        "1. 你選的這組資料為何重要<br/>\n",
        "   Titanic資料集為初試資料探勘領域最常碰到的資料集<br/><br/>\n",
        "\n",
        "2. 資料從何而來 (tips: 譬如提供者是誰、以什麼方式蒐集)<br/>\n",
        "   由Kaggle和Encyclopedia Titanica提供，根據[此文件](http://biostat.mc.vanderbilt.edu/wiki/pub/Main/DataSets/titanic3info.txt)的記載，是由Hind, Philip考證搜集而來<br/><br/>\n",
        "\n",
        "3. 蒐集而來的資料型態為何<br/>\n",
        "   常見的CSV格式，可直接匯入使用<br/>\n",
        "   裡頭共有12欄(變數)，有6個文字型態，6個數值型態<br/><br/>\n",
        "\n",
        "4. 這組資料想解決的問題如何評估<br/>\n",
        "   此組資料想解決的問題為預測客戶的存活(Classification)，因變數為Survived(Categorical)，其餘可做為自變數投入(X)<br/>\n",
        "   可使用的評估標準有ROC、PRC、F1...etc"
      ],
      "metadata": {}
    },
    {
      "cell_type": "markdown",
      "source": [
        "# 作業2：\n",
        "\n",
        "想像你經營一個自由載客車隊，你希望能透過數據分析以提升業績，請你思考並描述你如何規劃整體的分析/解決方案：<br/>\n",
        "\n",
        "1. 核心問題為何 (tips：如何定義 「提升業績 & 你的假設」)<br/>\n",
        "   提升業績的定義為增加車隊的淨利，而可以增加淨利的待驗證假設有載客地區/時間/天氣/氣溫/人車流量是否與乘客的乘坐距離/目的地有關<br/><br/>\n",
        "\n",
        "2. 資料從何而來 (tips：哪些資料可能會對你想問的問題產生影響 & 資料如何蒐集)<br/>\n",
        "   資料來源可分為內外部，內部可由車控系統(車子的行經軌跡)、CRM系統(乘客資料)、叫車系統(乘客乘車資訊)...等<br/>\n",
        "   外部則可參考中央氣象局的歷史氣象資料、電信公司的人潮車流資料...等<br/><br/>\n",
        "\n",
        "3. 蒐集而來的資料型態為何<br/>\n",
        "   每一筆記錄都會有一個乘客ID為主KEY，可能包含上下車時間/經緯度、乘車時間/距離、客戶基本資訊、車資...等<br/><br/>\n",
        "\n",
        "4. 你要回答的問題，其如何評估 (tips：你的假設如何驗證)<br/>\n",
        "   分對針對上述假設進行假設檢定，如給定同一地區下不同載客時間(上午/中午/下午/晚上/深夜)對車資是否有影響\n",
        "   並畫出相對應的分析圖形<br/>\n",
        "   也可以將所搜集的資料建立迴歸模型，因變數為載客淨利(車資-成本)，自變數為其他變數，快速檢驗X對Y的影響"
      ],
      "metadata": {}
    },
    {
      "cell_type": "markdown",
      "source": [
        "# 作業3：\n",
        "\n請點選檢視範例依照 Day_001_example_of_metrics.ipynb 完成 Mean Squared Error 的函式"
      ],
      "metadata": {}
    },
    {
      "cell_type": "code",
      "source": [
        "import numpy as np\n",
        "import math\n",
        "import matplotlib.pyplot as plt"
      ],
      "outputs": [],
      "execution_count": 2,
      "metadata": {}
    },
    {
      "cell_type": "code",
      "source": [
        "def mean_absolute_error(y, yp):\n",
        "    \"\"\"\n",
        "    計算 MAE\n",
        "    Args:\n",
        "        - y: 實際值\n",
        "        - yp: 預測值\n",
        "    Return:\n",
        "        - mae: MAE\n",
        "    \"\"\"\n",
        "    mae = MAE = sum(abs(y - yp)) / len(y)\n",
        "    return mae"
      ],
      "outputs": [],
      "execution_count": 4,
      "metadata": {}
    },
    {
      "cell_type": "code",
      "source": [
        "def mean_squared_error(y, yp):\n",
        "    \"\"\"\n",
        "    計算MSE\n",
        "    Args: \n",
        "        - y: 實際值\n",
        "        - yh: 預測值\n",
        "    Return:\n",
        "        - mse: MSE\n",
        "    \"\"\"\n",
        "    mse = MSE = sum((y - yp)**2) / len(y)\n",
        "    \n",
        "    return mse"
      ],
      "outputs": [],
      "execution_count": 12,
      "metadata": {}
    },
    {
      "cell_type": "code",
      "source": [
        "w = 3\n",
        "b = 0.5\n",
        "\n",
        "x_lin = np.linspace(0, 100, 101)\n",
        "\n",
        "y = (x_lin + np.random.randn(101) * 5) * w + b\n",
        "\n",
        "plt.plot(x_lin, y, 'b.', label = 'data points')\n",
        "plt.title(\"Assume we have data points\")\n",
        "plt.legend(loc = 2)\n",
        "plt.show()"
      ],
      "outputs": [
        {
          "output_type": "display_data",
          "data": {
            "image/png": "[encoded data removed]",
            "text/plain": [
              "<Figure size 432x288 with 1 Axes>"
            ]
          },
          "metadata": {
            "needs_background": "light"
          }
        }
      ],
      "execution_count": 5,
      "metadata": {}
    },
    {
      "cell_type": "code",
      "source": [
        "y_hat = x_lin * w + b\n",
        "plt.plot(x_lin, y, 'b.', label = 'data')\n",
        "plt.plot(x_lin, y_hat, 'r-', label = 'prediction')\n",
        "plt.title(\"Assume we have data points (And the prediction)\")\n",
        "plt.legend(loc = 2)\n",
        "plt.show()"
      ],
      "outputs": [
        {
          "output_type": "display_data",
          "data": {
            "image/png": "[encoded data removed]",
            "text/plain": [
              "<Figure size 432x288 with 1 Axes>"
            ]
          },
          "metadata": {
            "needs_background": "light"
          }
        }
      ],
      "execution_count": 6,
      "metadata": {}
    },
    {
      "cell_type": "code",
      "source": [
        "# 執行 Function, 確認有沒有正常執行\n",
        "MSE = mean_squared_error(y, y_hat)\n",
        "MAE = mean_absolute_error(y, y_hat)\n",
        "print(\"The Mean squared error is %.3f\" % (MSE))\n",
        "print(\"The Mean absolute error is %.3f\" % (MAE))"
      ],
      "outputs": [
        {
          "output_type": "stream",
          "name": "stdout",
          "text": [
            "The Mean squared error is 182.512\n",
            "The Mean absolute error is 10.025\n"
          ]
        }
      ],
      "execution_count": 13,
      "metadata": {}
    }
  ],
  "metadata": {
    "kernelspec": {
      "name": "python3",
      "language": "python",
      "display_name": "Python 3"
    },
    "language_info": {
      "name": "python",
      "version": "3.7.0",
      "mimetype": "text/x-python",
      "codemirror_mode": {
        "name": "ipython",
        "version": 3
      },
      "pygments_lexer": "ipython3",
      "nbconvert_exporter": "python",
      "file_extension": ".py"
    },
    "kernel_info": {
      "name": "python3"
    },
    "nteract": {
      "version": "0.12.3"
    }
  },
  "nbformat": 4,
  "nbformat_minor": 2
}